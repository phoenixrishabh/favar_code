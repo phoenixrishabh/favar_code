{
 "cells": [
  {
   "cell_type": "code",
   "execution_count": 1,
   "metadata": {
    "collapsed": false
   },
   "outputs": [
    {
     "name": "stderr",
     "output_type": "stream",
     "text": [
      "\n",
      "Attaching package: ‘dplyr’\n",
      "\n",
      "The following objects are masked from ‘package:stats’:\n",
      "\n",
      "    filter, lag\n",
      "\n",
      "The following objects are masked from ‘package:base’:\n",
      "\n",
      "    intersect, setdiff, setequal, union\n",
      "\n"
     ]
    }
   ],
   "source": [
    "library(dplyr)\n"
   ]
  },
  {
   "cell_type": "code",
   "execution_count": 2,
   "metadata": {
    "collapsed": true
   },
   "outputs": [],
   "source": [
    "p <- 2\n",
    "set.seed(1)\n",
    "x <- matrix(sample.int(15, size = 10*5, replace = TRUE), nrow = 10, ncol = 5)\n",
    "\n",
    "Mlag2 <- function(x,p){\n",
    "  # This function creates VAR lags of the order p.\n",
    "        \n",
    "  Traw <- nrow(x)\n",
    "  N <- ncol(x)\n",
    "  xlag <- matrix(0,Traw, N*p)\n",
    " \n",
    "  for (i in 1:p){\n",
    "       a <- N*(i-1)+1\n",
    "       b <- N*i\n",
    "       xlag[c((p+1):Traw), c(a:b)] <- x[c((p+1-i):(Traw-i)), c(1:N)]\n",
    "  }\n",
    " \n",
    "  return(xlag)\n",
    " \n",
    "}\n"
   ]
  },
  {
   "cell_type": "code",
   "execution_count": 3,
   "metadata": {
    "collapsed": false
   },
   "outputs": [
    {
     "data": {
      "text/html": [
       "<table>\n",
       "<tbody>\n",
       "\t<tr><td>0</td><td>0</td><td>0</td><td>0</td><td>0</td><td>0</td><td>0</td><td>0</td><td>0</td><td>0</td></tr>\n",
       "\t<tr><td>0</td><td>0</td><td>0</td><td>0</td><td>0</td><td>0</td><td>0</td><td>0</td><td>0</td><td>0</td></tr>\n",
       "\t<tr><td> 6</td><td> 3</td><td> 4</td><td> 9</td><td>10</td><td> 4</td><td> 4</td><td>15</td><td> 8</td><td>13</td></tr>\n",
       "\t<tr><td> 9</td><td>11</td><td>10</td><td> 8</td><td>12</td><td> 6</td><td> 3</td><td> 4</td><td> 9</td><td>10</td></tr>\n",
       "\t<tr><td>14</td><td> 6</td><td> 2</td><td> 3</td><td> 9</td><td> 9</td><td>11</td><td>10</td><td> 8</td><td>12</td></tr>\n",
       "\t<tr><td> 4</td><td>12</td><td> 5</td><td>13</td><td> 8</td><td>14</td><td> 6</td><td> 2</td><td> 3</td><td> 9</td></tr>\n",
       "\t<tr><td>14</td><td> 8</td><td> 6</td><td>11</td><td>12</td><td> 4</td><td>12</td><td> 5</td><td>13</td><td> 8</td></tr>\n",
       "\t<tr><td>15</td><td>11</td><td> 1</td><td>12</td><td> 1</td><td>14</td><td> 8</td><td> 6</td><td>11</td><td>12</td></tr>\n",
       "\t<tr><td>10</td><td>15</td><td> 6</td><td> 2</td><td> 8</td><td>15</td><td>11</td><td> 1</td><td>12</td><td> 1</td></tr>\n",
       "\t<tr><td>10</td><td> 6</td><td>14</td><td>11</td><td>11</td><td>10</td><td>15</td><td> 6</td><td> 2</td><td> 8</td></tr>\n",
       "</tbody>\n",
       "</table>\n"
      ],
      "text/latex": [
       "\\begin{tabular}{llllllllll}\n",
       "\t 0 & 0 & 0 & 0 & 0 & 0 & 0 & 0 & 0 & 0\\\\\n",
       "\t 0 & 0 & 0 & 0 & 0 & 0 & 0 & 0 & 0 & 0\\\\\n",
       "\t  6 &  3 &  4 &  9 & 10 &  4 &  4 & 15 &  8 & 13\\\\\n",
       "\t  9 & 11 & 10 &  8 & 12 &  6 &  3 &  4 &  9 & 10\\\\\n",
       "\t 14 &  6 &  2 &  3 &  9 &  9 & 11 & 10 &  8 & 12\\\\\n",
       "\t  4 & 12 &  5 & 13 &  8 & 14 &  6 &  2 &  3 &  9\\\\\n",
       "\t 14 &  8 &  6 & 11 & 12 &  4 & 12 &  5 & 13 &  8\\\\\n",
       "\t 15 & 11 &  1 & 12 &  1 & 14 &  8 &  6 & 11 & 12\\\\\n",
       "\t 10 & 15 &  6 &  2 &  8 & 15 & 11 &  1 & 12 &  1\\\\\n",
       "\t 10 &  6 & 14 & 11 & 11 & 10 & 15 &  6 &  2 &  8\\\\\n",
       "\\end{tabular}\n"
      ],
      "text/markdown": [
       "1. 0\n",
       "2. 0\n",
       "3. 6\n",
       "4. 9\n",
       "5. 14\n",
       "6. 4\n",
       "7. 14\n",
       "8. 15\n",
       "9. 10\n",
       "10. 10\n",
       "11. 0\n",
       "12. 0\n",
       "13. 3\n",
       "14. 11\n",
       "15. 6\n",
       "16. 12\n",
       "17. 8\n",
       "18. 11\n",
       "19. 15\n",
       "20. 6\n",
       "21. 0\n",
       "22. 0\n",
       "23. 4\n",
       "24. 10\n",
       "25. 2\n",
       "26. 5\n",
       "27. 6\n",
       "28. 1\n",
       "29. 6\n",
       "30. 14\n",
       "31. 0\n",
       "32. 0\n",
       "33. 9\n",
       "34. 8\n",
       "35. 3\n",
       "36. 13\n",
       "37. 11\n",
       "38. 12\n",
       "39. 2\n",
       "40. 11\n",
       "41. 0\n",
       "42. 0\n",
       "43. 10\n",
       "44. 12\n",
       "45. 9\n",
       "46. 8\n",
       "47. 12\n",
       "48. 1\n",
       "49. 8\n",
       "50. 11\n",
       "51. 0\n",
       "52. 0\n",
       "53. 4\n",
       "54. 6\n",
       "55. 9\n",
       "56. 14\n",
       "57. 4\n",
       "58. 14\n",
       "59. 15\n",
       "60. 10\n",
       "61. 0\n",
       "62. 0\n",
       "63. 4\n",
       "64. 3\n",
       "65. 11\n",
       "66. 6\n",
       "67. 12\n",
       "68. 8\n",
       "69. 11\n",
       "70. 15\n",
       "71. 0\n",
       "72. 0\n",
       "73. 15\n",
       "74. 4\n",
       "75. 10\n",
       "76. 2\n",
       "77. 5\n",
       "78. 6\n",
       "79. 1\n",
       "80. 6\n",
       "81. 0\n",
       "82. 0\n",
       "83. 8\n",
       "84. 9\n",
       "85. 8\n",
       "86. 3\n",
       "87. 13\n",
       "88. 11\n",
       "89. 12\n",
       "90. 2\n",
       "91. 0\n",
       "92. 0\n",
       "93. 13\n",
       "94. 10\n",
       "95. 12\n",
       "96. 9\n",
       "97. 8\n",
       "98. 12\n",
       "99. 1\n",
       "100. 8\n",
       "\n",
       "\n"
      ],
      "text/plain": [
       "      [,1] [,2] [,3] [,4] [,5] [,6] [,7] [,8] [,9] [,10]\n",
       " [1,]    0    0    0    0    0    0    0    0    0     0\n",
       " [2,]    0    0    0    0    0    0    0    0    0     0\n",
       " [3,]    6    3    4    9   10    4    4   15    8    13\n",
       " [4,]    9   11   10    8   12    6    3    4    9    10\n",
       " [5,]   14    6    2    3    9    9   11   10    8    12\n",
       " [6,]    4   12    5   13    8   14    6    2    3     9\n",
       " [7,]   14    8    6   11   12    4   12    5   13     8\n",
       " [8,]   15   11    1   12    1   14    8    6   11    12\n",
       " [9,]   10   15    6    2    8   15   11    1   12     1\n",
       "[10,]   10    6   14   11   11   10   15    6    2     8"
      ]
     },
     "execution_count": 3,
     "metadata": {},
     "output_type": "execute_result"
    }
   ],
   "source": [
    "Mlag2(x,p)"
   ]
  },
  {
   "cell_type": "code",
   "execution_count": 4,
   "metadata": {
    "collapsed": false
   },
   "outputs": [
    {
     "data": {
      "text/html": [
       "<table>\n",
       "<tbody>\n",
       "\t<tr><td> 4</td><td> 4</td><td>15</td><td> 8</td><td>13</td></tr>\n",
       "\t<tr><td> 6</td><td> 3</td><td> 4</td><td> 9</td><td>10</td></tr>\n",
       "\t<tr><td> 9</td><td>11</td><td>10</td><td> 8</td><td>12</td></tr>\n",
       "\t<tr><td>14</td><td> 6</td><td> 2</td><td> 3</td><td> 9</td></tr>\n",
       "\t<tr><td> 4</td><td>12</td><td> 5</td><td>13</td><td> 8</td></tr>\n",
       "\t<tr><td>14</td><td> 8</td><td> 6</td><td>11</td><td>12</td></tr>\n",
       "\t<tr><td>15</td><td>11</td><td> 1</td><td>12</td><td> 1</td></tr>\n",
       "\t<tr><td>10</td><td>15</td><td> 6</td><td> 2</td><td> 8</td></tr>\n",
       "\t<tr><td>10</td><td> 6</td><td>14</td><td>11</td><td>11</td></tr>\n",
       "\t<tr><td> 1</td><td>12</td><td> 6</td><td> 7</td><td>11</td></tr>\n",
       "</tbody>\n",
       "</table>\n"
      ],
      "text/latex": [
       "\\begin{tabular}{lllll}\n",
       "\t  4 &  4 & 15 &  8 & 13\\\\\n",
       "\t  6 &  3 &  4 &  9 & 10\\\\\n",
       "\t  9 & 11 & 10 &  8 & 12\\\\\n",
       "\t 14 &  6 &  2 &  3 &  9\\\\\n",
       "\t  4 & 12 &  5 & 13 &  8\\\\\n",
       "\t 14 &  8 &  6 & 11 & 12\\\\\n",
       "\t 15 & 11 &  1 & 12 &  1\\\\\n",
       "\t 10 & 15 &  6 &  2 &  8\\\\\n",
       "\t 10 &  6 & 14 & 11 & 11\\\\\n",
       "\t  1 & 12 &  6 &  7 & 11\\\\\n",
       "\\end{tabular}\n"
      ],
      "text/markdown": [
       "1. 4\n",
       "2. 6\n",
       "3. 9\n",
       "4. 14\n",
       "5. 4\n",
       "6. 14\n",
       "7. 15\n",
       "8. 10\n",
       "9. 10\n",
       "10. 1\n",
       "11. 4\n",
       "12. 3\n",
       "13. 11\n",
       "14. 6\n",
       "15. 12\n",
       "16. 8\n",
       "17. 11\n",
       "18. 15\n",
       "19. 6\n",
       "20. 12\n",
       "21. 15\n",
       "22. 4\n",
       "23. 10\n",
       "24. 2\n",
       "25. 5\n",
       "26. 6\n",
       "27. 1\n",
       "28. 6\n",
       "29. 14\n",
       "30. 6\n",
       "31. 8\n",
       "32. 9\n",
       "33. 8\n",
       "34. 3\n",
       "35. 13\n",
       "36. 11\n",
       "37. 12\n",
       "38. 2\n",
       "39. 11\n",
       "40. 7\n",
       "41. 13\n",
       "42. 10\n",
       "43. 12\n",
       "44. 9\n",
       "45. 8\n",
       "46. 12\n",
       "47. 1\n",
       "48. 8\n",
       "49. 11\n",
       "50. 11\n",
       "\n",
       "\n"
      ],
      "text/plain": [
       "      [,1] [,2] [,3] [,4] [,5]\n",
       " [1,]    4    4   15    8   13\n",
       " [2,]    6    3    4    9   10\n",
       " [3,]    9   11   10    8   12\n",
       " [4,]   14    6    2    3    9\n",
       " [5,]    4   12    5   13    8\n",
       " [6,]   14    8    6   11   12\n",
       " [7,]   15   11    1   12    1\n",
       " [8,]   10   15    6    2    8\n",
       " [9,]   10    6   14   11   11\n",
       "[10,]    1   12    6    7   11"
      ]
     },
     "execution_count": 4,
     "metadata": {},
     "output_type": "execute_result"
    }
   ],
   "source": [
    "x"
   ]
  },
  {
   "cell_type": "code",
   "execution_count": 5,
   "metadata": {
    "collapsed": false
   },
   "outputs": [
    {
     "data": {
      "text/html": [
       "2"
      ],
      "text/latex": [
       "2"
      ],
      "text/markdown": [
       "2"
      ],
      "text/plain": [
       "[1] 2"
      ]
     },
     "execution_count": 5,
     "metadata": {},
     "output_type": "execute_result"
    }
   ],
   "source": [
    "p"
   ]
  },
  {
   "cell_type": "code",
   "execution_count": null,
   "metadata": {
    "collapsed": true
   },
   "outputs": [],
   "source": []
  }
 ],
 "metadata": {
  "kernelspec": {
   "display_name": "R",
   "language": "R",
   "name": "ir"
  },
  "language_info": {
   "codemirror_mode": "r",
   "file_extension": ".r",
   "mimetype": "text/x-r-source",
   "name": "R",
   "pygments_lexer": "r",
   "version": "3.2.2"
  }
 },
 "nbformat": 4,
 "nbformat_minor": 0
}
